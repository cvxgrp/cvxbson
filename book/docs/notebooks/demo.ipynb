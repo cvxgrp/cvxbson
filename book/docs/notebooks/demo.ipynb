{
 "cells": [
  {
   "cell_type": "markdown",
   "id": "1a5b3590",
   "metadata": {
    "pycharm": {
     "name": "#%% md\n"
    }
   },
   "source": [
    "# cvxjson"
   ]
  },
  {
   "cell_type": "code",
   "execution_count": 1,
   "id": "2ac98a51",
   "metadata": {
    "collapsed": false,
    "jupyter": {
     "outputs_hidden": false
    },
    "pycharm": {
     "name": "#%%\n"
    }
   },
   "outputs": [],
   "source": [
    "import numpy as np\n",
    "\n",
    "from cvx.json import read_json, write_json\n",
    "from cvx.bson import read_bson, write_bson"
   ]
  },
  {
   "cell_type": "markdown",
   "id": "840a9c23-b293-4806-8cfc-a79012f9423b",
   "metadata": {
    "collapsed": false,
    "jupyter": {
     "outputs_hidden": false
    },
    "pycharm": {
     "name": "#%%\n"
    }
   },
   "source": [
    "## Generate a dictionary of numpy arrays"
   ]
  },
  {
   "cell_type": "code",
   "execution_count": 2,
   "id": "a8a82149-2780-40bc-bfcc-237220ee317e",
   "metadata": {},
   "outputs": [],
   "source": [
    "data = {\"A\": np.random.rand(50,50), \"B\": np.random.rand(50)}"
   ]
  },
  {
   "cell_type": "markdown",
   "id": "ce834f95-7516-4f0a-9ac3-3c9d2831be30",
   "metadata": {},
   "source": [
    "## json"
   ]
  },
  {
   "cell_type": "code",
   "execution_count": 3,
   "id": "3e3150e8-160e-4cb1-956c-0905d9e942d4",
   "metadata": {},
   "outputs": [],
   "source": [
    "write_json(\"test.json\", data)\n",
    "recovered = dict(read_json(\"test.json\"))\n",
    "\n",
    "assert np.allclose(data[\"A\"], recovered[\"A\"])\n",
    "assert np.allclose(data[\"B\"], recovered[\"B\"])"
   ]
  },
  {
   "cell_type": "markdown",
   "id": "51135891-ddf4-4d40-be56-594f657956f5",
   "metadata": {},
   "source": [
    "## bson"
   ]
  },
  {
   "cell_type": "code",
   "execution_count": 4,
   "id": "0e6f8558-7c61-44c2-b60f-a7495eb377a7",
   "metadata": {},
   "outputs": [],
   "source": [
    "write_bson(\"test.bson\", data)\n",
    "recovered = dict(read_bson(\"test.bson\"))\n",
    "\n",
    "assert np.allclose(data[\"A\"], recovered[\"A\"])\n",
    "assert np.allclose(data[\"B\"], recovered[\"B\"])"
   ]
  },
  {
   "cell_type": "code",
   "execution_count": null,
   "id": "3d6e77d2-c6f1-4714-ba84-614e0f107002",
   "metadata": {},
   "outputs": [],
   "source": []
  }
 ],
 "metadata": {
  "kernelspec": {
   "display_name": "cvxjson",
   "language": "python",
   "name": "cvxjson"
  },
  "language_info": {
   "codemirror_mode": {
    "name": "ipython",
    "version": 3
   },
   "file_extension": ".py",
   "mimetype": "text/x-python",
   "name": "python",
   "nbconvert_exporter": "python",
   "pygments_lexer": "ipython3",
   "version": "3.10.6"
  }
 },
 "nbformat": 4,
 "nbformat_minor": 5
}
