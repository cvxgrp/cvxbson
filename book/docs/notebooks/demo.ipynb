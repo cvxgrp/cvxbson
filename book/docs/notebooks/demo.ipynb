{
 "cells": [
  {
   "cell_type": "markdown",
   "id": "1a5b3590",
   "metadata": {
    "pycharm": {
     "name": "#%% md\n"
    }
   },
   "source": [
    "# cvxjson"
   ]
  },
  {
   "cell_type": "code",
   "execution_count": 4,
   "id": "2ac98a51",
   "metadata": {
    "collapsed": false,
    "jupyter": {
     "outputs_hidden": false
    },
    "pycharm": {
     "name": "#%%\n"
    }
   },
   "outputs": [],
   "source": [
    "import numpy as np\n",
    "\n",
    "from cvx.json import read_json, write_json\n",
    "from cvx.bson import read_bson, write_bson"
   ]
  },
  {
   "cell_type": "markdown",
   "id": "840a9c23-b293-4806-8cfc-a79012f9423b",
   "metadata": {
    "collapsed": false,
    "jupyter": {
     "outputs_hidden": false
    },
    "pycharm": {
     "name": "#%%\n"
    }
   },
   "source": [
    "## Generate a dictionary of numpy arrays"
   ]
  },
  {
   "cell_type": "code",
   "execution_count": 5,
   "id": "a8a82149-2780-40bc-bfcc-237220ee317e",
   "metadata": {},
   "outputs": [],
   "source": [
    "data = {\"A\": np.random.rand(50,50), \"B\": np.random.rand(50)}"
   ]
  },
  {
   "cell_type": "markdown",
   "id": "ce834f95-7516-4f0a-9ac3-3c9d2831be30",
   "metadata": {},
   "source": [
    "## json"
   ]
  },
  {
   "cell_type": "code",
   "execution_count": 11,
   "id": "3e3150e8-160e-4cb1-956c-0905d9e942d4",
   "metadata": {},
   "outputs": [],
   "source": [
    "write_json(\"test.json\", data)\n",
    "recovered = dict(read_json(\"test.json\"))\n",
    "\n",
    "assert np.allclose(data[\"A\"], recovered[\"A\"])\n",
    "assert np.allclose(data[\"B\"], recovered[\"B\"])"
   ]
  },
  {
   "cell_type": "markdown",
   "id": "51135891-ddf4-4d40-be56-594f657956f5",
   "metadata": {},
   "source": [
    "## bson"
   ]
  },
  {
   "cell_type": "code",
   "execution_count": 13,
   "id": "0e6f8558-7c61-44c2-b60f-a7495eb377a7",
   "metadata": {},
   "outputs": [
    {
     "ename": "TypeError",
     "evalue": "'numpy.float64' object is not iterable",
     "output_type": "error",
     "traceback": [
      "\u001B[0;31m---------------------------------------------------------------------------\u001B[0m",
      "\u001B[0;31mTypeError\u001B[0m                                 Traceback (most recent call last)",
      "Cell \u001B[0;32mIn[13], line 1\u001B[0m\n\u001B[0;32m----> 1\u001B[0m \u001B[43mwrite_bson\u001B[49m\u001B[43m(\u001B[49m\u001B[38;5;124;43m\"\u001B[39;49m\u001B[38;5;124;43mtest.bson\u001B[39;49m\u001B[38;5;124;43m\"\u001B[39;49m\u001B[43m,\u001B[49m\u001B[43m \u001B[49m\u001B[43mdata\u001B[49m\u001B[43m)\u001B[49m\n\u001B[1;32m      2\u001B[0m recovered \u001B[38;5;241m=\u001B[39m \u001B[38;5;28mdict\u001B[39m(read_bson(\u001B[38;5;124m\"\u001B[39m\u001B[38;5;124mtest.bson\u001B[39m\u001B[38;5;124m\"\u001B[39m))\n\u001B[1;32m      4\u001B[0m \u001B[38;5;28;01massert\u001B[39;00m np\u001B[38;5;241m.\u001B[39mallclose(data[\u001B[38;5;124m\"\u001B[39m\u001B[38;5;124mA\u001B[39m\u001B[38;5;124m\"\u001B[39m], recovered[\u001B[38;5;124m\"\u001B[39m\u001B[38;5;124mA\u001B[39m\u001B[38;5;124m\"\u001B[39m])\n",
      "File \u001B[0;32m~/projects/cvxjson/cvx/bson/file.py:76\u001B[0m, in \u001B[0;36mwrite_bson\u001B[0;34m(file, data, compression)\u001B[0m\n\u001B[1;32m     72\u001B[0m             \u001B[38;5;28;01mraise\u001B[39;00m \u001B[38;5;167;01mTypeError\u001B[39;00m(\u001B[38;5;124m\"\u001B[39m\u001B[38;5;124mBson only supports numpy arrays\u001B[39m\u001B[38;5;124m\"\u001B[39m)\n\u001B[1;32m     74\u001B[0m         \u001B[38;5;28;01mreturn\u001B[39;00m buffer\u001B[38;5;241m.\u001B[39mgetvalue()\n\u001B[0;32m---> 76\u001B[0m content \u001B[38;5;241m=\u001B[39m bson\u001B[38;5;241m.\u001B[39mdumps({name: to_binary(value) \u001B[38;5;28;01mfor\u001B[39;00m name, value \u001B[38;5;129;01min\u001B[39;00m data\u001B[38;5;241m.\u001B[39mitems()})\n\u001B[1;32m     78\u001B[0m \u001B[38;5;28;01mwith\u001B[39;00m \u001B[38;5;28mopen\u001B[39m(file\u001B[38;5;241m=\u001B[39mfile, mode\u001B[38;5;241m=\u001B[39m\u001B[38;5;124m\"\u001B[39m\u001B[38;5;124mwb\u001B[39m\u001B[38;5;124m\"\u001B[39m) \u001B[38;5;28;01mas\u001B[39;00m bson_file:\n\u001B[1;32m     79\u001B[0m     bson_file\u001B[38;5;241m.\u001B[39mwrite(content)\n",
      "File \u001B[0;32m~/projects/cvxjson/cvx/bson/file.py:76\u001B[0m, in \u001B[0;36m<dictcomp>\u001B[0;34m(.0)\u001B[0m\n\u001B[1;32m     72\u001B[0m             \u001B[38;5;28;01mraise\u001B[39;00m \u001B[38;5;167;01mTypeError\u001B[39;00m(\u001B[38;5;124m\"\u001B[39m\u001B[38;5;124mBson only supports numpy arrays\u001B[39m\u001B[38;5;124m\"\u001B[39m)\n\u001B[1;32m     74\u001B[0m         \u001B[38;5;28;01mreturn\u001B[39;00m buffer\u001B[38;5;241m.\u001B[39mgetvalue()\n\u001B[0;32m---> 76\u001B[0m content \u001B[38;5;241m=\u001B[39m bson\u001B[38;5;241m.\u001B[39mdumps({name: \u001B[43mto_binary\u001B[49m\u001B[43m(\u001B[49m\u001B[43mvalue\u001B[49m\u001B[43m)\u001B[49m \u001B[38;5;28;01mfor\u001B[39;00m name, value \u001B[38;5;129;01min\u001B[39;00m data\u001B[38;5;241m.\u001B[39mitems()})\n\u001B[1;32m     78\u001B[0m \u001B[38;5;28;01mwith\u001B[39;00m \u001B[38;5;28mopen\u001B[39m(file\u001B[38;5;241m=\u001B[39mfile, mode\u001B[38;5;241m=\u001B[39m\u001B[38;5;124m\"\u001B[39m\u001B[38;5;124mwb\u001B[39m\u001B[38;5;124m\"\u001B[39m) \u001B[38;5;28;01mas\u001B[39;00m bson_file:\n\u001B[1;32m     79\u001B[0m     bson_file\u001B[38;5;241m.\u001B[39mwrite(content)\n",
      "File \u001B[0;32m~/projects/cvxjson/cvx/bson/file.py:59\u001B[0m, in \u001B[0;36mwrite_bson.<locals>.to_binary\u001B[0;34m(matrix)\u001B[0m\n\u001B[1;32m     57\u001B[0m \u001B[38;5;28;01mwith\u001B[39;00m io\u001B[38;5;241m.\u001B[39mBytesIO() \u001B[38;5;28;01mas\u001B[39;00m buffer:\n\u001B[1;32m     58\u001B[0m     \u001B[38;5;28;01mif\u001B[39;00m \u001B[38;5;28misinstance\u001B[39m(matrix, np\u001B[38;5;241m.\u001B[39mndarray):\n\u001B[0;32m---> 59\u001B[0m         arrays \u001B[38;5;241m=\u001B[39m [\n\u001B[1;32m     60\u001B[0m             pa\u001B[38;5;241m.\u001B[39marray(col) \u001B[38;5;28;01mfor\u001B[39;00m col \u001B[38;5;129;01min\u001B[39;00m matrix  \u001B[38;5;66;03m# Create one arrow array per row\u001B[39;00m\n\u001B[1;32m     61\u001B[0m         ]\n\u001B[1;32m     63\u001B[0m         table \u001B[38;5;241m=\u001B[39m pa\u001B[38;5;241m.\u001B[39mTable\u001B[38;5;241m.\u001B[39mfrom_arrays(\n\u001B[1;32m     64\u001B[0m             arrays,\n\u001B[1;32m     65\u001B[0m             names\u001B[38;5;241m=\u001B[39m[\u001B[38;5;28mstr\u001B[39m(i) \u001B[38;5;28;01mfor\u001B[39;00m i \u001B[38;5;129;01min\u001B[39;00m \u001B[38;5;28mrange\u001B[39m(np\u001B[38;5;241m.\u001B[39mshape(arrays)[\u001B[38;5;241m0\u001B[39m])]\n\u001B[1;32m     66\u001B[0m             \u001B[38;5;66;03m# give name to each row\u001B[39;00m\n\u001B[1;32m     67\u001B[0m         )\n\u001B[1;32m     69\u001B[0m         pq\u001B[38;5;241m.\u001B[39mwrite_table(table, buffer, compression\u001B[38;5;241m=\u001B[39mcompression)\n",
      "File \u001B[0;32m~/projects/cvxjson/cvx/bson/file.py:60\u001B[0m, in \u001B[0;36m<listcomp>\u001B[0;34m(.0)\u001B[0m\n\u001B[1;32m     57\u001B[0m \u001B[38;5;28;01mwith\u001B[39;00m io\u001B[38;5;241m.\u001B[39mBytesIO() \u001B[38;5;28;01mas\u001B[39;00m buffer:\n\u001B[1;32m     58\u001B[0m     \u001B[38;5;28;01mif\u001B[39;00m \u001B[38;5;28misinstance\u001B[39m(matrix, np\u001B[38;5;241m.\u001B[39mndarray):\n\u001B[1;32m     59\u001B[0m         arrays \u001B[38;5;241m=\u001B[39m [\n\u001B[0;32m---> 60\u001B[0m             \u001B[43mpa\u001B[49m\u001B[38;5;241;43m.\u001B[39;49m\u001B[43marray\u001B[49m\u001B[43m(\u001B[49m\u001B[43mcol\u001B[49m\u001B[43m)\u001B[49m \u001B[38;5;28;01mfor\u001B[39;00m col \u001B[38;5;129;01min\u001B[39;00m matrix  \u001B[38;5;66;03m# Create one arrow array per row\u001B[39;00m\n\u001B[1;32m     61\u001B[0m         ]\n\u001B[1;32m     63\u001B[0m         table \u001B[38;5;241m=\u001B[39m pa\u001B[38;5;241m.\u001B[39mTable\u001B[38;5;241m.\u001B[39mfrom_arrays(\n\u001B[1;32m     64\u001B[0m             arrays,\n\u001B[1;32m     65\u001B[0m             names\u001B[38;5;241m=\u001B[39m[\u001B[38;5;28mstr\u001B[39m(i) \u001B[38;5;28;01mfor\u001B[39;00m i \u001B[38;5;129;01min\u001B[39;00m \u001B[38;5;28mrange\u001B[39m(np\u001B[38;5;241m.\u001B[39mshape(arrays)[\u001B[38;5;241m0\u001B[39m])]\n\u001B[1;32m     66\u001B[0m             \u001B[38;5;66;03m# give name to each row\u001B[39;00m\n\u001B[1;32m     67\u001B[0m         )\n\u001B[1;32m     69\u001B[0m         pq\u001B[38;5;241m.\u001B[39mwrite_table(table, buffer, compression\u001B[38;5;241m=\u001B[39mcompression)\n",
      "File \u001B[0;32m~/projects/cvxjson/.venv/lib/python3.10/site-packages/pyarrow/array.pxi:327\u001B[0m, in \u001B[0;36mpyarrow.lib.array\u001B[0;34m()\u001B[0m\n",
      "File \u001B[0;32m~/projects/cvxjson/.venv/lib/python3.10/site-packages/pyarrow/array.pxi:39\u001B[0m, in \u001B[0;36mpyarrow.lib._sequence_to_array\u001B[0;34m()\u001B[0m\n",
      "File \u001B[0;32m~/projects/cvxjson/.venv/lib/python3.10/site-packages/pyarrow/error.pxi:144\u001B[0m, in \u001B[0;36mpyarrow.lib.pyarrow_internal_check_status\u001B[0;34m()\u001B[0m\n",
      "\u001B[0;31mTypeError\u001B[0m: 'numpy.float64' object is not iterable"
     ]
    }
   ],
   "source": [
    "write_bson(\"test.bson\", data)\n",
    "recovered = dict(read_bson(\"test.bson\"))\n",
    "\n",
    "assert np.allclose(data[\"A\"], recovered[\"A\"])\n",
    "assert np.allclose(data[\"B\"], recovered[\"B\"])"
   ]
  },
  {
   "cell_type": "code",
   "execution_count": null,
   "id": "3d6e77d2-c6f1-4714-ba84-614e0f107002",
   "metadata": {},
   "outputs": [],
   "source": []
  }
 ],
 "metadata": {
  "kernelspec": {
   "display_name": "cvxjson",
   "language": "python",
   "name": "cvxjson"
  },
  "language_info": {
   "codemirror_mode": {
    "name": "ipython",
    "version": 3
   },
   "file_extension": ".py",
   "mimetype": "text/x-python",
   "name": "python",
   "nbconvert_exporter": "python",
   "pygments_lexer": "ipython3",
   "version": "3.10.6"
  }
 },
 "nbformat": 4,
 "nbformat_minor": 5
}
