{
 "cells": [
  {
   "cell_type": "markdown",
   "id": "1a5b3590",
   "metadata": {
    "pycharm": {
     "name": "#%% md\n"
    }
   },
   "source": [
    "# cvxbson"
   ]
  },
  {
   "cell_type": "code",
   "execution_count": 1,
   "id": "ea5d8014",
   "metadata": {
    "collapsed": false,
    "jupyter": {
     "outputs_hidden": false
    },
    "pycharm": {
     "name": "#%%\n"
    }
   },
   "outputs": [],
   "source": [
    "import numpy as np\n",
    "\n",
    "from cvx.json import read_json, write_json\n",
    "from cvx.bson import read_bson, write_bson"
   ]
  },
  {
   "cell_type": "code",
   "execution_count": null,
   "outputs": [],
   "source": [
    "## Generate a dictionary of numpy arrays"
   ],
   "metadata": {
    "collapsed": false,
    "pycharm": {
     "name": "#%%\n"
    }
   }
  },
  {
   "cell_type": "code",
   "execution_count": 3,
   "id": "5e066815",
   "metadata": {
    "collapsed": false,
    "jupyter": {
     "outputs_hidden": false
    },
    "pycharm": {
     "name": "#%%\n"
    }
   },
   "outputs": [],
   "source": [
    "data = {\"A\": np.random.rand(50,50), \"B\": np.random.rand(50)}"
   ]
  },
  {
   "cell_type": "markdown",
   "id": "45168acb",
   "metadata": {
    "collapsed": false,
    "jupyter": {
     "outputs_hidden": false
    },
    "pycharm": {
     "name": "#%% md\n"
    }
   },
   "source": [
    "## json"
   ]
  },
  {
   "cell_type": "code",
   "execution_count": 4,
   "id": "a2ab1328",
   "metadata": {
    "collapsed": false,
    "jupyter": {
     "outputs_hidden": false
    },
    "pycharm": {
     "name": "#%%\n"
    }
   },
   "outputs": [],
   "source": [
    "write_json(\"test.json\", data)\n",
    "recovered = dict(read_json(\"test.json\"))\n",
    "\n",
    "assert np.allclose(data[\"A\"], recovered[\"A\"])\n",
    "assert np.allclose(data[\"B\"], recovered[\"B\"])"
   ]
  },
  {
   "cell_type": "markdown",
   "id": "c3886676",
   "metadata": {
    "collapsed": false,
    "jupyter": {
     "outputs_hidden": false
    },
    "pycharm": {
     "name": "#%% md\n"
    }
   },
   "source": [
    "## bson"
   ]
  },
  {
   "cell_type": "code",
   "execution_count": 6,
   "id": "0f78020b",
   "metadata": {
    "collapsed": false,
    "jupyter": {
     "outputs_hidden": false
    },
    "pycharm": {
     "name": "#%%\n"
    }
   },
   "outputs": [],
   "source": [
    "write_bson(\"test.bson\", data)\n",
    "recovered = dict(read_bson(\"test.bson\"))\n",
    "\n",
    "assert np.allclose(data[\"A\"], recovered[\"A\"])\n",
    "assert np.allclose(data[\"B\"], recovered[\"B\"])"
   ]
  },
  {
   "cell_type": "code",
   "execution_count": null,
   "id": "101902d2-96bc-41c4-a9c0-6c23dafbc49a",
   "metadata": {
    "pycharm": {
     "name": "#%%\n"
    }
   },
   "outputs": [],
   "source": []
  }
 ],
 "metadata": {
  "kernelspec": {
   "display_name": "cvxbson",
   "language": "python",
   "name": "cvxbson"
  },
  "language_info": {
   "codemirror_mode": {
    "name": "ipython",
    "version": 3
   },
   "file_extension": ".py",
   "mimetype": "text/x-python",
   "name": "python",
   "nbconvert_exporter": "python",
   "pygments_lexer": "ipython3",
   "version": "3.10.9"
  }
 },
 "nbformat": 4,
 "nbformat_minor": 5
}
